{
 "cells": [
  {
   "cell_type": "markdown",
   "id": "c583fa02",
   "metadata": {},
   "source": [
    "## Costo de Producción\n",
    "\n",
    "El ejercicio propuesto consiste en completar una tabla con valores faltantes relacionados con los costos de producción. Para resolverlo, debemos aplicar las fórmulas de contabilidad de costos para determinar los siguientes conceptos:\n",
    "\n",
    "**Costo Primo**: Es la suma de los costos directos, es decir, la Materia Prima Directa (MP) y la Mano de Obra Directa (MO). Representa el costo esencial para fabricar un producto.\n",
    "\n",
    "**Costo de Conversión**: Es el costo de transformar la materia prima en un producto terminado, incluyendo la Mano de Obra Directa (MO) y los Costos Indirectos de Fabricación (CIF).\n",
    "\n",
    "**Costo de Producción**: Es el costo total de fabricar un producto, que es la suma de los tres elementos: Materia Prima Directa (MP), Mano de Obra Directa (MO) y Costos Indirectos de Fabricación (CIF).\n",
    "\n",
    "\n",
    "Las fórmulas clave para el cálculo de costos de producción son las siguientes:\n",
    "\n",
    "\\begin{align*}\n",
    "\\text{Costo Primo} &= \\text{MP} + \\text{MO} \\\\\n",
    "\\text{Costo de Conversión} &= \\text{MO} + \\text{CIF} \\\\\n",
    "\\text{Costo de Producción} &= \\text{MP} + \\text{MO} + \\text{CIF}\n",
    "\\end{align*}\n",
    "\n",
    "Con estas fórmulas, y con base en los datos conocidos en cada fila, podemos despejar los valores faltantes.\n",
    "\n",
    "- Si falta Costo de Producción pero tenemos los tres elementos:\n",
    "\n",
    "\\begin{equation*}\n",
    "    \\text{Costo de Producción} = \\text{MPD} + \\text{MOD} + \\text{CIF}\n",
    "\\end{equation*}\n",
    "\n",
    "- Si falta CIF pero tenemos Costo de Conversión y MO:\n",
    "\n",
    "\\begin{equation*}\n",
    "    \\text{CIF} = \\text{Costo de Conversión} - \\text{MO} \n",
    "\\end{equation*}\n",
    "\n",
    "- Si falta MP pero tenemos Costo Primo y MO:\n",
    "\n",
    "\\begin{equation*}\n",
    "    \\text{MP} = \\text{Costo Primo} - \\text{MO}\n",
    "\\end{equation*}\n"
   ]
  },
  {
   "cell_type": "code",
   "execution_count": 24,
   "id": "2f77cff7",
   "metadata": {},
   "outputs": [],
   "source": [
    "import pandas as pd\n",
    "import numpy as np"
   ]
  },
  {
   "cell_type": "code",
   "execution_count": 28,
   "id": "ba992422",
   "metadata": {},
   "outputs": [
    {
     "name": "stdout",
     "output_type": "stream",
     "text": [
      "      MP        MO       CIF Costo Primo Costo de Conversión Costo de Producción\n",
      " 10000.0   15000.0    5000.0           -                   -                   -\n",
      " 10580.0   13000.0    5985.0     23580.0             18985.0                   -\n",
      " 10217.0   18900.0         -     29117.0                   -             38467.0\n",
      " 13500.0         -   12600.0     29000.0             28100.0             41600.0\n",
      " 55800.0  100200.0  150000.0           -                   -                   -\n",
      "       -   10200.0   13580.0     18700.0                   -             32280.0\n"
     ]
    }
   ],
   "source": [
    "# Los datos del ejercicio, con valores nulos (None) en las celdas que faltan\n",
    "datos_del_ejercicio = [\n",
    "    {'MP': 10000, 'MO': 15000, 'CIF': 5000, 'Costo Primo': None, 'Costo de Conversión': None, 'Costo de Producción': None},\n",
    "    {'MP': 10580, 'MO': 13000, 'CIF': 5985, 'Costo Primo': 23580, 'Costo de Conversión': 18985, 'Costo de Producción': None},\n",
    "    {'MP': 10217, 'MO': 18900, 'CIF': None, 'Costo Primo': 29117, 'Costo de Conversión': None, 'Costo de Producción': 38467},\n",
    "    {'MP': 13500, 'MO': None, 'CIF': 12600, 'Costo Primo': 29000, 'Costo de Conversión': 28100, 'Costo de Producción': 41600},\n",
    "    {'MP': 55800, 'MO': 100200, 'CIF': 150000, 'Costo Primo': None, 'Costo de Conversión': None, 'Costo de Producción': None},\n",
    "    {'MP': None, 'MO': 10200, 'CIF': 13580, 'Costo Primo': 18700, 'Costo de Conversión': None, 'Costo de Producción': 32280}\n",
    "]\n",
    "\n",
    "resultados = []\n",
    "\n",
    "df = pd.DataFrame(datos_del_ejercicio)\n",
    "\n",
    "\n",
    "print(df.fillna('-').to_string(index=False, formatters={\n",
    "    col: lambda x: f\"${x:,.0f}\" if isinstance(x, (int, float)) else x \n",
    "    for col in df.columns\n",
    "}))"
   ]
  },
  {
   "cell_type": "code",
   "execution_count": null,
   "id": "bb52e50d",
   "metadata": {},
   "outputs": [],
   "source": [
    "def completar_valores(df):\n",
    "    \"\"\"\n",
    "    Completa los valores faltantes en el DF de costos.\n",
    "    La lógica se ejecuta en un bucle para garantizar que todas las dependencias se resuelvan.\n",
    "    \"\"\"\n",
    "    df_copy = df.copy()\n",
    "    \n",
    "    # Bucle para resolver valores hasta que no queden nulos\n",
    "    while df_copy.isnull().values.any():\n",
    "        \n",
    "        # Iterar sobre cada fila para aplicar la lógica de cálculo\n",
    "        for index, fila in df_copy.iterrows():\n",
    "            \n",
    "            # Cálculo de los 3 costos principales si los 3 elementos están presentes\n",
    "            if pd.notna(fila['MP']) and pd.notna(fila['MO']) and pd.notna(fila['CIF']):\n",
    "                df_copy.loc[index, 'Costo Primo'] = fila['MP'] + fila['MO']\n",
    "                df_copy.loc[index, 'Costo de Conversión'] = fila['MO'] + fila['CIF']\n",
    "                df_copy.loc[index, 'Costo de Producción'] = fila['MP'] + fila['MO'] + fila['CIF']\n",
    "\n",
    "            # Calcular MP, MO o CIF si solo uno de ellos falta\n",
    "            if pd.isna(fila['MP']) and pd.notna(fila['Costo Primo']) and pd.notna(fila['MO']):\n",
    "                df_copy.loc[index, 'MP'] = fila['Costo Primo'] - fila['MO']\n",
    "            \n",
    "            if pd.isna(fila['MO']) and pd.notna(fila['Costo Primo']) and pd.notna(fila['MP']):\n",
    "                df_copy.loc[index, 'MO'] = fila['Costo Primo'] - fila['MP']\n",
    "            elif pd.isna(fila['MO']) and pd.notna(fila['Costo de Conversión']) and pd.notna(fila['CIF']):\n",
    "                df_copy.loc[index, 'MO'] = fila['Costo de Conversión'] - fila['CIF']\n",
    "            \n",
    "            if pd.isna(fila['CIF']) and pd.notna(fila['Costo de Conversión']) and pd.notna(fila['MO']):\n",
    "                df_copy.loc[index, 'CIF'] = fila['Costo de Conversión'] - fila['MO']\n",
    "            elif pd.isna(fila['CIF']) and pd.notna(fila['Costo de Producción']) and pd.notna(fila['Costo Primo']):\n",
    "                df_copy.loc[index, 'CIF'] = fila['Costo de Producción'] - fila['Costo Primo']\n",
    "            elif pd.isna(fila['CIF']) and pd.notna(fila['Costo de Producción']) and pd.notna(['MP']) and pd.notna(fila['MO']):\n",
    "                df_copy.loc[index, 'CIF'] = fila['Costo de Producción'] - fila['MP'] - fila['MO']\n",
    "                \n",
    "    return df_copy"
   ]
  },
  {
   "cell_type": "code",
   "execution_count": 30,
   "id": "98cad938",
   "metadata": {},
   "outputs": [
    {
     "name": "stdout",
     "output_type": "stream",
     "text": [
      "DATOS NUMÉRICOS COMPLETOS:\n",
      "     MP       MO      CIF  Costo Primo  Costo de Conversión  Costo de Producción\n",
      "10000.0  15000.0   5000.0      25000.0              20000.0              30000.0\n",
      "10580.0  13000.0   5985.0      23580.0              18985.0              29565.0\n",
      "10217.0  18900.0   9350.0      29117.0              28250.0              38467.0\n",
      "13500.0  15500.0  12600.0      29000.0              28100.0              41600.0\n",
      "55800.0 100200.0 150000.0     156000.0             250200.0             306000.0\n",
      " 8500.0  10200.0  13580.0      18700.0              23780.0              32280.0\n"
     ]
    }
   ],
   "source": [
    "# Aplicar la función al DataFrame\n",
    "df_completo = completar_valores(df)\n",
    "\n",
    "# Mostrar el DataFrame con los números ya calculados\n",
    "print(\"DATOS NUMÉRICOS COMPLETOS:\")\n",
    "print(df_completo.to_string(index=False))"
   ]
  },
  {
   "cell_type": "code",
   "execution_count": 32,
   "id": "4efd8df3",
   "metadata": {},
   "outputs": [
    {
     "name": "stdout",
     "output_type": "stream",
     "text": [
      "CUADRO COMPLETADO:\n",
      "     MP       MO      CIF Costo Primo Costo de Conversión Costo de Producción\n",
      "$10,000  $15,000   $5,000     $25,000             $20,000             $30,000\n",
      "$10,580  $13,000   $5,985     $23,580             $18,985             $29,565\n",
      "$10,217  $18,900   $9,350     $29,117             $28,250             $38,467\n",
      "$13,500  $15,500  $12,600     $29,000             $28,100             $41,600\n",
      "$55,800 $100,200 $150,000    $156,000            $250,200            $306,000\n",
      " $8,500  $10,200  $13,580     $18,700             $23,780             $32,280\n"
     ]
    }
   ],
   "source": [
    "# Función para formatear los valores de la tabla\n",
    "def formatear_valor(valor):\n",
    "    if pd.isna(valor):\n",
    "        return \"-\"\n",
    "    return f\"${int(valor):,}\"\n",
    "\n",
    "df_formateado = df_completo.copy()\n",
    "for col in df_formateado.columns:\n",
    "    df_formateado[col] = df_formateado[col].apply(formatear_valor)\n",
    "\n",
    "print(\"CUADRO COMPLETADO:\")\n",
    "print(df_formateado.to_string(index=False))"
   ]
  }
 ],
 "metadata": {
  "kernelspec": {
   "display_name": "Python 3",
   "language": "python",
   "name": "python3"
  },
  "language_info": {
   "codemirror_mode": {
    "name": "ipython",
    "version": 3
   },
   "file_extension": ".py",
   "mimetype": "text/x-python",
   "name": "python",
   "nbconvert_exporter": "python",
   "pygments_lexer": "ipython3",
   "version": "3.10.0"
  }
 },
 "nbformat": 4,
 "nbformat_minor": 5
}
