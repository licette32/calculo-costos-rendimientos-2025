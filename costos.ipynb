{
 "cells": [
  {
   "cell_type": "markdown",
   "id": "122fcb71",
   "metadata": {},
   "source": [
    "# 📓 COSTOS\n",
    "\n",
    "El *costo* es el sacrificio económico o la contraprestación que se realiza para producir un bien, prestar un servicio o alcanzar un objetivo específico. Se trata del valor de los recursos escasos que se entregan, se transforman o se consumen en un proceso. La idea fundamental es que, debido a que los recursos son limitados, nada es gratuito; siempre hay un \"esfuerzo\" o \"sacrificio\" medible para obtener algo.\n",
    "\n",
    "\n",
    "(_Este notebook contiene las funciones y soluciones para los ejercicios de cálculo de costos de materia prima, ajustados por merma._)"
   ]
  },
  {
   "cell_type": "markdown",
   "id": "245bf78e",
   "metadata": {},
   "source": [
    "## Elementos del Costo de Producción\n",
    "\n",
    "**Materia Prima**: Son los elementos o insumos que intervienen en un proceso de fabricación, los cuales se transforman en otro producto por la acción que ejerce la mano de obra (MO) y los costos indirectos de fabricación (CIF).\n",
    "\n",
    "El costo total de fabricar un producto se compone tradicionalmente de tres elementos esenciales:\n",
    "\n",
    "\n",
    "\n",
    "Materia Prima (MP): Son los elementos físicos que se incorporan y transforman durante el proceso productivo para convertirse en el producto final.\n",
    "\n",
    "\n",
    "\n",
    "\n",
    "Materia Prima Directa (MPD): Se puede identificar y cuantificar fácilmente en cada unidad del producto terminado (ej., la madera en una silla).\n",
    "\n",
    "\n",
    "\n",
    "Mano de Obra (MO): Es el esfuerzo humano, tanto físico como mental, que interviene en la transformación de la materia prima.\n",
    "\n",
    "\n",
    "\n",
    "\n",
    "Mano de Obra Directa (MOD): Es el trabajo de los operarios que se puede relacionar directamente con la fabricación de una unidad específica (ej., el tiempo del carpintero que ensambla la silla).\n",
    "\n",
    "\n",
    "\n",
    "Costos Indirectos de Fabricación (CIF): Son todos los costos necesarios para la producción que no son ni materia prima directa ni mano de obra directa. No se pueden asignar de forma exacta a una sola unidad. Aquí se incluyen:\n",
    "\n",
    "\n",
    "\n",
    "La Materia Prima Indirecta (ej., el pegamento para la silla).\n",
    "\n",
    "\n",
    "\n",
    "La Mano de Obra Indirecta (ej., el sueldo del supervisor de la fábrica).\n",
    "\n",
    "\n",
    "Otros costos como la energía eléctrica de las máquinas, el alquiler de la fábrica o la depreciación del equipo.\n",
    "\n"
   ]
  },
  {
   "cell_type": "code",
   "execution_count": null,
   "id": "ab13e30f",
   "metadata": {},
   "outputs": [],
   "source": [
    "# En esta celda definimos las funciones que usaremos en todo el notebook.\n",
    "\n",
    "def calcular_cantidad_necesaria(unidades_a_producir, consumo_neto_por_unidad, porcentaje_merma):\n",
    "    \"\"\"\n",
    "    Calcula la cantidad total de materia prima requerida, ajustando por la merma.\n",
    "    \"\"\"\n",
    "    if porcentaje_merma >= 1:\n",
    "        raise ValueError(\"El porcentaje de merma debe ser un valor decimal (ej. 0.20 para 20%).\")\n",
    "    \n",
    "    material_neto = unidades_a_producir * consumo_neto_por_unidad\n",
    "    cantidad_total = material_neto / (1 - porcentaje_merma)\n",
    "    return cantidad_total\n",
    "\n",
    "def calcular_costo_compra(cantidad_total_material, costo_por_unidad_material):\n",
    "    \"\"\"\n",
    "    Calcula el costo total de la compra de materia prima.\n",
    "    \"\"\"\n",
    "    return cantidad_total_material * costo_por_unidad_material"
   ]
  },
  {
   "cell_type": "markdown",
   "id": "fd27efd2",
   "metadata": {},
   "source": [
    "### Ejercicio 1: Producto \"ZZ\"\n",
    "\n",
    "Determinar la Cantidad necesaria de Materia Prima para una producción de 1.500 unidades del Producto “ZZ” teniendo en cuenta:\n",
    "\n",
    "- Consumo de Materia Prima por Unidad de Producto “ZZ”................. 1⁄2 litro\n",
    "- Precio de la Materia Prima por litro................................. $200\n",
    "- Merma de la Materia Prima ........................................... 20%\n",
    "\n",
    "*Datos*:\n",
    "\n",
    "- **Producción:** 1.500 unidades\n",
    "- **Consumo:** 0,5 litro por unidad\n",
    "- **Merma:** 20%\n",
    "- **Precio:** $200 por litro"
   ]
  },
  {
   "cell_type": "code",
   "execution_count": 2,
   "id": "592a1a69",
   "metadata": {},
   "outputs": [
    {
     "name": "stdout",
     "output_type": "stream",
     "text": [
      "Cantidad necesaria: 937.50 litros\n",
      "Costo total de compra: $187,500.00\n"
     ]
    }
   ],
   "source": [
    "cantidad_zz = calcular_cantidad_necesaria(1500, 0.5, 0.20)\n",
    "costo_zz = calcular_costo_compra(cantidad_zz, 200)\n",
    "\n",
    "print(f\"Cantidad necesaria: {cantidad_zz:.2f} litros\")\n",
    "print(f\"Costo total de compra: ${costo_zz:,.2f}\")"
   ]
  },
  {
   "cell_type": "markdown",
   "id": "8d3311f3",
   "metadata": {},
   "source": [
    "### Ejercicio 2: Empresa Manufacturera\n",
    "- **Producción:** 1.500 unidades\n",
    "- **Consumo:** 3 metros por unidad\n",
    "- **Desperdicio:** 20%\n",
    "- **Precio:** $320 por metro"
   ]
  },
  {
   "cell_type": "code",
   "execution_count": 3,
   "id": "aeeb622b",
   "metadata": {},
   "outputs": [
    {
     "name": "stdout",
     "output_type": "stream",
     "text": [
      "Cantidad necesaria: 5625.00 metros\n",
      "Costo total de compra: $1,800,000.00\n"
     ]
    }
   ],
   "source": [
    "cantidad_manuf = calcular_cantidad_necesaria(1500, 3, 0.20)\n",
    "costo_manuf = calcular_costo_compra(cantidad_manuf, 320)\n",
    "\n",
    "print(f\"Cantidad necesaria: {cantidad_manuf:.2f} metros\")\n",
    "print(f\"Costo total de compra: ${costo_manuf:,.2f}\")"
   ]
  },
  {
   "cell_type": "code",
   "execution_count": null,
   "id": "a8d10235",
   "metadata": {},
   "outputs": [],
   "source": []
  },
  {
   "cell_type": "code",
   "execution_count": null,
   "id": "e6b6a5da",
   "metadata": {},
   "outputs": [],
   "source": []
  },
  {
   "cell_type": "code",
   "execution_count": null,
   "id": "06d79a76",
   "metadata": {},
   "outputs": [],
   "source": []
  }
 ],
 "metadata": {
  "kernelspec": {
   "display_name": "Python 3",
   "language": "python",
   "name": "python3"
  },
  "language_info": {
   "codemirror_mode": {
    "name": "ipython",
    "version": 3
   },
   "file_extension": ".py",
   "mimetype": "text/x-python",
   "name": "python",
   "nbconvert_exporter": "python",
   "pygments_lexer": "ipython3",
   "version": "3.10.0"
  }
 },
 "nbformat": 4,
 "nbformat_minor": 5
}
